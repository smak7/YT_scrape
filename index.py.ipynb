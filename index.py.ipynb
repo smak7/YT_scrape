{
 "cells": [
  {
   "cell_type": "code",
   "execution_count": 3,
   "metadata": {},
   "outputs": [],
   "source": [
    "from bs4 import BeautifulSoup as bs\n",
    "from pytube import YouTube\n",
    "import requests\n",
    "import urllib\n",
    "import urllib.request\n"
   ]
  },
  {
   "cell_type": "code",
   "execution_count": 4,
   "metadata": {},
   "outputs": [],
   "source": [
    "base = \"https://www.youtube.com/results?search_query=\"\n",
    "qstring = \"baghdad\""
   ]
  },
  {
   "cell_type": "code",
   "execution_count": 5,
   "metadata": {},
   "outputs": [],
   "source": [
    "r = requests.get(base+qstring)"
   ]
  },
  {
   "cell_type": "code",
   "execution_count": 6,
   "metadata": {},
   "outputs": [],
   "source": [
    "page = r.text\n",
    "soup = bs(page,'html.parser')"
   ]
  },
  {
   "cell_type": "code",
   "execution_count": 7,
   "metadata": {},
   "outputs": [],
   "source": [
    "#print(page)"
   ]
  },
  {
   "cell_type": "markdown",
   "metadata": {},
   "source": [
    "### To Do: Need to figure out how to scroll and get more pages"
   ]
  },
  {
   "cell_type": "code",
   "execution_count": 8,
   "metadata": {},
   "outputs": [],
   "source": [
    "vids = soup.findAll('a',attrs={'class':'yt-uix-tile-link'})"
   ]
  },
  {
   "cell_type": "code",
   "execution_count": 9,
   "metadata": {},
   "outputs": [],
   "source": [
    "vid_spans = (soup.findAll('span', attrs= {'class': 'aria-label'}))\n"
   ]
  },
  {
   "cell_type": "code",
   "execution_count": 10,
   "metadata": {},
   "outputs": [
    {
     "name": "stdout",
     "output_type": "stream",
     "text": [
      "<a aria-describedby=\"description-id-73793\" class=\"yt-uix-tile-link yt-ui-ellipsis yt-ui-ellipsis-2 yt-uix-sessionlink spf-link \" data-sessionlink=\"itct=CFsQ3DAYAiITCP7cgMzBoeECFQaDxAodWhcMgij0JDIGc2VhcmNoUgdiYWdoZGFk\" dir=\"ltr\" href=\"/watch?v=PwGemfUVTtw\" rel=\"spf-prefetch\" title=\"Iraq Vlog #1 Travel to Baghdad, Once Called City of Peace / رحلتي إلى مدينة السلام ، بغداد (العراق)\"><span aria-label=\"Iraq Vlog #1 Travel to Baghdad, Once Called City of Peace / رحلتي إلى مدينة السلام ، بغداد (العراق) by kentoworld 4 days ago 12 minutes 1,108 views\">Iraq Vlog #1 Travel to Baghdad, Once Called City of Peace / رحلتي إلى مدينة السلام ، بغداد (العراق)</span></a>\n"
     ]
    }
   ],
   "source": [
    "print (vids[2])"
   ]
  },
  {
   "cell_type": "code",
   "execution_count": 11,
   "metadata": {},
   "outputs": [],
   "source": [
    "vid_info = soup.find('a', class_='yt-uix-tile-link')"
   ]
  },
  {
   "cell_type": "code",
   "execution_count": 12,
   "metadata": {},
   "outputs": [
    {
     "name": "stdout",
     "output_type": "stream",
     "text": [
      "<a aria-describedby=\"description-id-833200\" class=\"yt-uix-tile-link yt-ui-ellipsis yt-ui-ellipsis-2 yt-uix-sessionlink spf-link \" data-sessionlink=\"itct=CF0Q3DAYACITCP7cgMzBoeECFQaDxAodWhcMgij0JDIGc2VhcmNoUgdiYWdoZGFk\" dir=\"ltr\" href=\"/watch?v=Cm-oZzIxf_s\" rel=\"spf-prefetch\" title=\"Baghdad Revisited: The resilience of the Iraqi people\"><span aria-label=\"Baghdad Revisited: The resilience of the Iraqi people by FRANCE 24 English 5 months ago 16 minutes 63,954 views\">Baghdad Revisited: The resilience of the Iraqi people</span></a>\n"
     ]
    }
   ],
   "source": [
    "print(vid_info)"
   ]
  },
  {
   "cell_type": "markdown",
   "metadata": {},
   "source": [
    "## loop to print video title, link, and description"
   ]
  },
  {
   "cell_type": "code",
   "execution_count": 13,
   "metadata": {},
   "outputs": [],
   "source": [
    "# for one_video in vids: \n",
    "#     silehs = (one_video(soup.findAll('span', attrs= {'id': 'aria-label'})))\n",
    "#     print(silehs)\n"
   ]
  },
  {
   "cell_type": "markdown",
   "metadata": {},
   "source": [
    "### to do: count number of videos in dict"
   ]
  },
  {
   "cell_type": "code",
   "execution_count": 15,
   "metadata": {},
   "outputs": [
    {
     "name": "stdout",
     "output_type": "stream",
     "text": [
      "[{'video_title': 'Baghdad Revisited: The resilience of the Iraqi people', 'video_link': 'https://www.youtube.com//watch?v=Cm-oZzIxf_s', 'video_info': [<span aria-label=\"Baghdad Revisited: The resilience of the Iraqi people by FRANCE 24 English 5 months ago 16 minutes 63,954 views\">Baghdad Revisited: The resilience of the Iraqi people</span>]}, {'video_title': 'BAGHDAD THE MOVIE Free Movie Directed by: Curtis Ballard', 'video_link': 'https://www.youtube.com//watch?v=1Jvg9BiUYwU', 'video_info': [<span aria-label=\"BAGHDAD THE MOVIE Free Movie Directed by: Curtis Ballard by Curtis Ballard 3 years ago 1 hour, 48 minutes 439,200 views\">BAGHDAD THE MOVIE Free Movie Directed by: Curtis Ballard</span>]}, {'video_title': 'Iraq Vlog #1 Travel to Baghdad, Once Called City of Peace / رحلتي إلى مدينة السلام ، بغداد (العراق)', 'video_link': 'https://www.youtube.com//watch?v=PwGemfUVTtw', 'video_info': [<span aria-label=\"Iraq Vlog #1 Travel to Baghdad, Once Called City of Peace / رحلتي إلى مدينة السلام ، بغداد (العراق) by kentoworld 4 days ago 12 minutes 1,108 views\">Iraq Vlog #1 Travel to Baghdad, Once Called City of Peace / رحلتي إلى مدينة السلام ، بغداد (العراق)</span>]}, {'video_title': 'Shootout Battle for Baghdad', 'video_link': 'https://www.youtube.com//watch?v=8ynxwjcsTtU', 'video_info': [<span aria-label=\"Shootout Battle for Baghdad by Richard Hogan 3 years ago 44 minutes 1,307,340 views\">Shootout Battle for Baghdad</span>]}, {'video_title': 'Baghdad 1968', 'video_link': 'https://www.youtube.com//watch?v=OJ4iB0x0BEU', 'video_info': [<span aria-label=\"Baghdad 1968 by WketDZ 2 years ago 10 minutes 529,612 views\">Baghdad 1968</span>]}, {'video_title': 'Baghdad 2018 IRAQ  بغداد mon voyage en Irak ... with lovely emotional music', 'video_link': 'https://www.youtube.com//watch?v=PM83gHnFELM', 'video_info': [<span aria-label=\"Baghdad 2018 IRAQ  بغداد mon voyage en Irak ... with lovely emotional music by Ali ALNIJAR 3 months ago 33 minutes 10,423 views\">Baghdad 2018 IRAQ  بغداد mon voyage en Irak ... with lovely emotional music</span>]}, {'video_title': 'Iraq 2018 Baghdad', 'video_link': 'https://www.youtube.com//watch?v=Hzpk3bKpOHI', 'video_info': [<span aria-label=\"Iraq 2018 Baghdad by Ali ALNIJAR 10 months ago 23 minutes 13,790 views\">Iraq 2018 Baghdad</span>]}, {'video_title': 'Patrolling streets of Baghdad Iraq War Archival Stock Footage', 'video_link': 'https://www.youtube.com//watch?v=UNjZWAEx8ys', 'video_info': [<span aria-label=\"Patrolling streets of Baghdad Iraq War Archival Stock Footage by PublicDomainFootage 5 years ago 10 minutes 218,780 views\">Patrolling streets of Baghdad Iraq War Archival Stock Footage</span>]}, {'video_title': \"In Saddam's Shadow: Baghdad 10 Years After the Invasion (Full Length)\", 'video_link': 'https://www.youtube.com//watch?v=zhnNIhV4EsU', 'video_info': [<span aria-label=\"In Saddam's Shadow: Baghdad 10 Years After the Invasion (Full Length) by VICE 6 years ago 27 minutes 1,684,907 views\">In Saddam's Shadow: Baghdad 10 Years After the Invasion (Full Length)</span>]}, {'video_title': 'Iraq War remembered: Good Morning Baghdad', 'video_link': 'https://www.youtube.com//watch?v=jfK7QJdl0oA', 'video_info': [<span aria-label=\"Iraq War remembered: Good Morning Baghdad by Channel 4 News 2 years ago 19 minutes 18,079 views\">Iraq War remembered: Good Morning Baghdad</span>]}, {'video_title': 'AMERICAN BAGHDAD Short Documentary', 'video_link': 'https://www.youtube.com//watch?v=uTGvxWZU_M4', 'video_info': [<span aria-label=\"AMERICAN BAGHDAD Short Documentary by Atlas Brave 2 years ago 17 minutes 3,507 views\">AMERICAN BAGHDAD Short Documentary</span>]}, {'video_title': 'Live From Baghdad 2002', 'video_link': 'https://www.youtube.com//watch?v=G1dgOoE0O6I', 'video_info': [<span aria-label=\"Live From Baghdad 2002 by BellatrixForever97 6 years ago 1 hour, 44 minutes 201,708 views\">Live From Baghdad 2002</span>]}, {'video_title': 'Geography Now! IRAQ', 'video_link': 'https://www.youtube.com//watch?v=YHQqsx9wsnc', 'video_info': [<span aria-label=\"Geography Now! IRAQ by Geography Now 1 year ago 13 minutes 1,188,086 views\">Geography Now! IRAQ</span>]}, {'video_title': '🇮🇶 Iraq after the Americans | Rewind', 'video_link': 'https://www.youtube.com//watch?v=sxhilUOdFZI', 'video_info': [<span aria-label=\"🇮🇶 Iraq after the Americans | Rewind by Al Jazeera English 1 year ago 47 minutes 90,859 views\">🇮🇶 Iraq after the Americans | Rewind</span>]}, {'video_title': \"Iran & Iraq War, small group of Iranian's clash with Saddams Ba'athi army-1-\", 'video_link': 'https://www.youtube.com//watch?v=ffRa770PXpw', 'video_info': [<span aria-label=\"Iran &amp; Iraq War, small group of Iranian's clash with Saddams Ba'athi army-1- by Ya Ali 7 years ago 2 minutes, 31 seconds 2,376,247 views\">Iran &amp; Iraq War, small group of Iranian's clash with Saddams Ba'athi army-1-</span>]}, {'video_title': 'Baghdad capital of iraq || Baghdad', 'video_link': 'https://www.youtube.com//watch?v=liWlh2IdHwc', 'video_info': [<span aria-label=\"Baghdad capital of iraq || Baghdad by Md Sharukh Ali 1 year ago 2 minutes, 49 seconds 187,079 views\">Baghdad capital of iraq || Baghdad</span>]}, {'video_title': '🇰🇷 🇮🇶 Korean Lovers in Baghdad | Witness', 'video_link': 'https://www.youtube.com//watch?v=SRqcrY4F6r4', 'video_info': [<span aria-label=\"🇰🇷 🇮🇶 Korean Lovers in Baghdad | Witness by Al Jazeera English 4 months ago 24 minutes 144,661 views\">🇰🇷 🇮🇶 Korean Lovers in Baghdad | Witness</span>]}, {'video_title': 'baghdad bounedjah goal vs tunisia', 'video_link': 'https://www.youtube.com//watch?v=Inl3-LWbmeE', 'video_info': [<span aria-label=\"baghdad bounedjah goal vs tunisia by vandarylive 6 hours ago 2 minutes, 29 seconds 80 views\">baghdad bounedjah goal vs tunisia</span>]}, {'video_title': 'GWT: WRAP US tanks roll into central Baghdad, outside Palestine Hotel', 'video_link': 'https://www.youtube.com//watch?v=QsUwgEnqI4w', 'video_info': [<span aria-label=\"GWT: WRAP US tanks roll into central Baghdad, outside Palestine Hotel by AP Archive 3 years ago 3 minutes, 36 seconds 147,655 views\">GWT: WRAP US tanks roll into central Baghdad, outside Palestine Hotel</span>]}, {'video_title': 'Life in Baghdad: Joy Amid the Chaos of War | الحياة في بغداد | FRONTLINE', 'video_link': 'https://www.youtube.com//watch?v=ftPHG8yGuts', 'video_info': [<span aria-label=\"Life in Baghdad: Joy Amid the Chaos of War | الحياة في بغداد | FRONTLINE by FRONTLINE PBS | Official 4 years ago 4 minutes, 6 seconds 160,007 views\">Life in Baghdad: Joy Amid the Chaos of War | الحياة في بغداد | FRONTLINE</span>]}]\n"
     ]
    }
   ],
   "source": [
    "all_video_info = []\n",
    "for one_video in vids: \n",
    "    all_vid_info = dict()\n",
    "    \n",
    "    \n",
    "    video_title = one_video['title']\n",
    "    video_link = one_video['href']\n",
    "    full_link =('https://www.youtube.com/')+ video_link   \n",
    "    spans = (one_video(soup.find('span', \"aria-label\")))\n",
    "\n",
    "    \n",
    "    all_vid_info['video_title'] = video_title \n",
    "    all_vid_info[\"video_link\"] = full_link \n",
    "    all_vid_info[\"video_info\"] = spans\n",
    "    \n",
    "    all_video_info.append(all_vid_info)\n",
    "    \n",
    "\n",
    "    \n",
    "\n",
    "print(all_video_info)"
   ]
  },
  {
   "cell_type": "code",
   "execution_count": null,
   "metadata": {},
   "outputs": [
    {
     "name": "stdout",
     "output_type": "stream",
     "text": [
      "vid unavail\n"
     ]
    }
   ],
   "source": [
    "for a_vid in all_video_info: \n",
    "    try: \n",
    "#         yt = YouTube(a_vid[\"video_link\"]) \n",
    "        vid_linky = YouTube(a_vid[\"video_link\"])\n",
    "#         yt = YouTube(vid_linky)\n",
    "        stream = vid_linky.streams.first()\n",
    "        stream.download()\n",
    "#         yt.streams.all()\n",
    "#         yt.streams.filter(progressive=True, file_extension='mp4')\n",
    "#         yt.streams.order_by('resolution')\n",
    "#         yt.streams.desc()\n",
    "#         yt.streams.first()\n",
    "#         yt.streams.download()\n",
    "\n",
    "    except: \n",
    "        print('vid unavail')\n",
    "        \n",
    "#     try: \n",
    "#         full_link.streams\n",
    "#         print('sileh')\n",
    "#         filter(progressive=True, file_extension='mp4')\n",
    "#         order_by('resolution')\n",
    "#         desc()\n",
    "#         first()\n",
    "#         download()\n",
    "#         print('done')\n",
    "        \n",
    "#     except:\n",
    "#         print('vid unavailable')\n",
    "        \n"
   ]
  },
  {
   "cell_type": "code",
   "execution_count": null,
   "metadata": {},
   "outputs": [],
   "source": [
    "for each_vid in all_video_info: \n",
    "    try: \n",
    "        full_link.streams\n",
    "        filter(progressive=True, file_extension='mp4')\n",
    "        order_by('resolution')\n",
    "        desc()\n",
    "        first()\n",
    "        download()\n",
    "        print('done')\n",
    "        \n",
    "    except:\n",
    "        print('vid unavailable')\n"
   ]
  },
  {
   "cell_type": "code",
   "execution_count": 72,
   "metadata": {},
   "outputs": [],
   "source": [
    "# for one_vid in vids: \n",
    "#     try: \n",
    "      \n",
    "#         full_link.streams\n",
    "#         filter(progressive=True, file_extension='mp4')\n",
    "#         order_by('resolution')\n",
    "#         desc()\n",
    "#         first()\n",
    "#         download() \n",
    "    \n",
    "#         print(\"ass\")\n",
    "#         print('download', one_vid, 'complete')\n",
    "\n",
    "#     except: \n",
    "#         print('vid unavailable')\n"
   ]
  },
  {
   "cell_type": "code",
   "execution_count": 36,
   "metadata": {},
   "outputs": [
    {
     "ename": "IndentationError",
     "evalue": "unexpected indent (<ipython-input-36-e2cbb886ac56>, line 2)",
     "output_type": "error",
     "traceback": [
      "\u001b[0;36m  File \u001b[0;32m\"<ipython-input-36-e2cbb886ac56>\"\u001b[0;36m, line \u001b[0;32m2\u001b[0m\n\u001b[0;31m    filter(progressive=True, file_extension='mp4')\u001b[0m\n\u001b[0m    ^\u001b[0m\n\u001b[0;31mIndentationError\u001b[0m\u001b[0;31m:\u001b[0m unexpected indent\n"
     ]
    }
   ],
   "source": [
    "# yt.streams\n",
    "#     filter(progressive=True, file_extension='mp4')\n",
    "#     order_by('resolution')\n",
    "#     desc()\n",
    "#     first()\n",
    "#     download()\n",
    "#     print('done')\n",
    "#     #boom = YouTube(one_vid)"
   ]
  },
  {
   "cell_type": "code",
   "execution_count": 71,
   "metadata": {},
   "outputs": [
    {
     "ename": "AttributeError",
     "evalue": "'YouTube' object has no attribute 'get'",
     "output_type": "error",
     "traceback": [
      "\u001b[0;31m---------------------------------------------------------------------------\u001b[0m",
      "\u001b[0;31mAttributeError\u001b[0m                            Traceback (most recent call last)",
      "\u001b[0;32m<ipython-input-71-1002f76f3a81>\u001b[0m in \u001b[0;36m<module>\u001b[0;34m()\u001b[0m\n\u001b[1;32m     12\u001b[0m \u001b[0;34m\u001b[0m\u001b[0m\n\u001b[1;32m     13\u001b[0m     \u001b[0;31m# grab the video:\u001b[0m\u001b[0;34m\u001b[0m\u001b[0;34m\u001b[0m\u001b[0m\n\u001b[0;32m---> 14\u001b[0;31m     \u001b[0mvideo\u001b[0m \u001b[0;34m=\u001b[0m \u001b[0myt\u001b[0m\u001b[0;34m.\u001b[0m\u001b[0mget\u001b[0m\u001b[0;34m(\u001b[0m\u001b[0;34m'mp4'\u001b[0m\u001b[0;34m,\u001b[0m \u001b[0;34m'360p'\u001b[0m\u001b[0;34m)\u001b[0m\u001b[0;34m\u001b[0m\u001b[0m\n\u001b[0m\u001b[1;32m     15\u001b[0m \u001b[0;34m\u001b[0m\u001b[0m\n\u001b[1;32m     16\u001b[0m     \u001b[0;31m# set the output file name:\u001b[0m\u001b[0;34m\u001b[0m\u001b[0;34m\u001b[0m\u001b[0m\n",
      "\u001b[0;31mAttributeError\u001b[0m: 'YouTube' object has no attribute 'get'"
     ]
    }
   ],
   "source": [
    "count=0\n",
    "for item in videolist:\n",
    " \n",
    "    # increment counter:\n",
    "    count+=1\n",
    " \n",
    "    # initiate the class:\n",
    "    yt = YouTube(item)\n",
    " \n",
    "    # have a look at the different formats available:\n",
    "    #formats = yt.get_videos()\n",
    " \n",
    "    # grab the video:\n",
    "    video = yt.get('mp4', '360p')\n",
    " \n",
    "    # set the output file name:\n",
    "    yt.set_filename('Video_'+str(count))\n",
    " \n",
    "    # download the video:\n",
    "    video.download('./')"
   ]
  },
  {
   "cell_type": "code",
   "execution_count": null,
   "metadata": {},
   "outputs": [],
   "source": []
  }
 ],
 "metadata": {
  "kernelspec": {
   "display_name": "Python 3",
   "language": "python",
   "name": "python3"
  },
  "language_info": {
   "codemirror_mode": {
    "name": "ipython",
    "version": 3
   },
   "file_extension": ".py",
   "mimetype": "text/x-python",
   "name": "python",
   "nbconvert_exporter": "python",
   "pygments_lexer": "ipython3",
   "version": "3.6.4"
  }
 },
 "nbformat": 4,
 "nbformat_minor": 2
}
